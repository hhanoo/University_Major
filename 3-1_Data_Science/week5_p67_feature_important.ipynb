{
 "cells": [
  {
   "cell_type": "code",
   "execution_count": 1,
   "metadata": {
    "collapsed": true
   },
   "outputs": [],
   "source": [
    "# https://www.kaggle.com/code/pasqualebalsebre/a-ml-analysis-of-california-housing-data/notebook\n",
    "\n",
    "import pandas as pd\n",
    "import numpy as np\n",
    "import matplotlib.pyplot as plt\n",
    "from sklearn.ensemble import ExtraTreesClassifier\n",
    "from sklearn.model_selection import train_test_split"
   ]
  },
  {
   "cell_type": "code",
   "execution_count": 2,
   "outputs": [
    {
     "data": {
      "text/plain": "       longitude  latitude  housing_median_age  total_rooms  total_bedrooms  \\\n6385     -118.06     34.16                46.0       1467.0           298.0   \n7596     -118.25     33.89                35.0       1582.0           391.0   \n16035    -122.46     37.72                49.0       1207.0           255.0   \n8659     -118.41     33.85                16.0       6123.0          1989.0   \n16702    -120.58     35.00                37.0        523.0           119.0   \n...          ...       ...                 ...          ...             ...   \n1732     -122.35     37.96                32.0       1991.0           504.0   \n1603     -122.14     37.88                34.0       6986.0          1096.0   \n7659     -118.22     33.84                35.0       1131.0           273.0   \n20108    -120.35     37.86                25.0        287.0            57.0   \n3065     -119.24     35.67                32.0       3216.0           750.0   \n\n       population  households  median_income  ocean_proximity_<1H OCEAN  \\\n6385        816.0       267.0         3.6705                          0   \n7596       1957.0       404.0         2.4537                          1   \n16035       658.0       220.0         4.0859                          0   \n8659       2853.0      1789.0         4.4250                          0   \n16702       374.0        95.0         1.4726                          1   \n...           ...         ...            ...                        ...   \n1732       1139.0       423.0         2.0353                          0   \n1603       2865.0      1124.0         6.2275                          0   \n7659       1007.0       269.0         4.0219                          1   \n20108       118.0        50.0         2.3056                          0   \n3065       2639.0       709.0         2.0025                          0   \n\n       ocean_proximity_INLAND  ocean_proximity_ISLAND  \\\n6385                        1                       0   \n7596                        0                       0   \n16035                       0                       0   \n8659                        0                       0   \n16702                       0                       0   \n...                       ...                     ...   \n1732                        0                       0   \n1603                        0                       0   \n7659                        0                       0   \n20108                       1                       0   \n3065                        1                       0   \n\n       ocean_proximity_NEAR BAY  ocean_proximity_NEAR OCEAN  \n6385                          0                           0  \n7596                          0                           0  \n16035                         0                           1  \n8659                          0                           1  \n16702                         0                           0  \n...                         ...                         ...  \n1732                          1                           0  \n1603                          1                           0  \n7659                          0                           0  \n20108                         0                           0  \n3065                          0                           0  \n\n[4128 rows x 13 columns]",
      "text/html": "<div>\n<style scoped>\n    .dataframe tbody tr th:only-of-type {\n        vertical-align: middle;\n    }\n\n    .dataframe tbody tr th {\n        vertical-align: top;\n    }\n\n    .dataframe thead th {\n        text-align: right;\n    }\n</style>\n<table border=\"1\" class=\"dataframe\">\n  <thead>\n    <tr style=\"text-align: right;\">\n      <th></th>\n      <th>longitude</th>\n      <th>latitude</th>\n      <th>housing_median_age</th>\n      <th>total_rooms</th>\n      <th>total_bedrooms</th>\n      <th>population</th>\n      <th>households</th>\n      <th>median_income</th>\n      <th>ocean_proximity_&lt;1H OCEAN</th>\n      <th>ocean_proximity_INLAND</th>\n      <th>ocean_proximity_ISLAND</th>\n      <th>ocean_proximity_NEAR BAY</th>\n      <th>ocean_proximity_NEAR OCEAN</th>\n    </tr>\n  </thead>\n  <tbody>\n    <tr>\n      <th>6385</th>\n      <td>-118.06</td>\n      <td>34.16</td>\n      <td>46.0</td>\n      <td>1467.0</td>\n      <td>298.0</td>\n      <td>816.0</td>\n      <td>267.0</td>\n      <td>3.6705</td>\n      <td>0</td>\n      <td>1</td>\n      <td>0</td>\n      <td>0</td>\n      <td>0</td>\n    </tr>\n    <tr>\n      <th>7596</th>\n      <td>-118.25</td>\n      <td>33.89</td>\n      <td>35.0</td>\n      <td>1582.0</td>\n      <td>391.0</td>\n      <td>1957.0</td>\n      <td>404.0</td>\n      <td>2.4537</td>\n      <td>1</td>\n      <td>0</td>\n      <td>0</td>\n      <td>0</td>\n      <td>0</td>\n    </tr>\n    <tr>\n      <th>16035</th>\n      <td>-122.46</td>\n      <td>37.72</td>\n      <td>49.0</td>\n      <td>1207.0</td>\n      <td>255.0</td>\n      <td>658.0</td>\n      <td>220.0</td>\n      <td>4.0859</td>\n      <td>0</td>\n      <td>0</td>\n      <td>0</td>\n      <td>0</td>\n      <td>1</td>\n    </tr>\n    <tr>\n      <th>8659</th>\n      <td>-118.41</td>\n      <td>33.85</td>\n      <td>16.0</td>\n      <td>6123.0</td>\n      <td>1989.0</td>\n      <td>2853.0</td>\n      <td>1789.0</td>\n      <td>4.4250</td>\n      <td>0</td>\n      <td>0</td>\n      <td>0</td>\n      <td>0</td>\n      <td>1</td>\n    </tr>\n    <tr>\n      <th>16702</th>\n      <td>-120.58</td>\n      <td>35.00</td>\n      <td>37.0</td>\n      <td>523.0</td>\n      <td>119.0</td>\n      <td>374.0</td>\n      <td>95.0</td>\n      <td>1.4726</td>\n      <td>1</td>\n      <td>0</td>\n      <td>0</td>\n      <td>0</td>\n      <td>0</td>\n    </tr>\n    <tr>\n      <th>...</th>\n      <td>...</td>\n      <td>...</td>\n      <td>...</td>\n      <td>...</td>\n      <td>...</td>\n      <td>...</td>\n      <td>...</td>\n      <td>...</td>\n      <td>...</td>\n      <td>...</td>\n      <td>...</td>\n      <td>...</td>\n      <td>...</td>\n    </tr>\n    <tr>\n      <th>1732</th>\n      <td>-122.35</td>\n      <td>37.96</td>\n      <td>32.0</td>\n      <td>1991.0</td>\n      <td>504.0</td>\n      <td>1139.0</td>\n      <td>423.0</td>\n      <td>2.0353</td>\n      <td>0</td>\n      <td>0</td>\n      <td>0</td>\n      <td>1</td>\n      <td>0</td>\n    </tr>\n    <tr>\n      <th>1603</th>\n      <td>-122.14</td>\n      <td>37.88</td>\n      <td>34.0</td>\n      <td>6986.0</td>\n      <td>1096.0</td>\n      <td>2865.0</td>\n      <td>1124.0</td>\n      <td>6.2275</td>\n      <td>0</td>\n      <td>0</td>\n      <td>0</td>\n      <td>1</td>\n      <td>0</td>\n    </tr>\n    <tr>\n      <th>7659</th>\n      <td>-118.22</td>\n      <td>33.84</td>\n      <td>35.0</td>\n      <td>1131.0</td>\n      <td>273.0</td>\n      <td>1007.0</td>\n      <td>269.0</td>\n      <td>4.0219</td>\n      <td>1</td>\n      <td>0</td>\n      <td>0</td>\n      <td>0</td>\n      <td>0</td>\n    </tr>\n    <tr>\n      <th>20108</th>\n      <td>-120.35</td>\n      <td>37.86</td>\n      <td>25.0</td>\n      <td>287.0</td>\n      <td>57.0</td>\n      <td>118.0</td>\n      <td>50.0</td>\n      <td>2.3056</td>\n      <td>0</td>\n      <td>1</td>\n      <td>0</td>\n      <td>0</td>\n      <td>0</td>\n    </tr>\n    <tr>\n      <th>3065</th>\n      <td>-119.24</td>\n      <td>35.67</td>\n      <td>32.0</td>\n      <td>3216.0</td>\n      <td>750.0</td>\n      <td>2639.0</td>\n      <td>709.0</td>\n      <td>2.0025</td>\n      <td>0</td>\n      <td>1</td>\n      <td>0</td>\n      <td>0</td>\n      <td>0</td>\n    </tr>\n  </tbody>\n</table>\n<p>4128 rows × 13 columns</p>\n</div>"
     },
     "execution_count": 2,
     "metadata": {},
     "output_type": "execute_result"
    }
   ],
   "source": [
    "# load dataFrame\n",
    "data = pd.read_csv(\"data/housing.csv\")\n",
    "# Convert Categorical Data Values to Features\n",
    "data = pd.get_dummies(data=data, columns=[\"ocean_proximity\"], prefix=\"ocean_proximity\")\n",
    "# Fill the NAN value with the intermediate value\n",
    "data.fillna(data.mean(), inplace=True)\n",
    "\n",
    "# Independent columns\n",
    "X = data.iloc[:, data.columns != \"median_house_value\"]\n",
    "# target column (median_house_value)\n",
    "Y = data.iloc[:, 8]\n",
    "\n",
    "# Since it is impossible to calculate with the original amount of data, only 20% is used to calculate.\n",
    "X_train, X_test, Y_train, Y_test = train_test_split(X, Y, train_size=0.2, test_size=0.8)\n",
    "\n",
    "X_train"
   ],
   "metadata": {
    "collapsed": false,
    "pycharm": {
     "name": "#%%\n"
    }
   }
  },
  {
   "cell_type": "code",
   "execution_count": 3,
   "outputs": [
    {
     "name": "stdout",
     "output_type": "stream",
     "text": [
      "                         Specs         Score\n",
      "3                  total_rooms  9.772920e+06\n",
      "5                   population  3.988363e+06\n",
      "4               total_bedrooms  1.402919e+06\n",
      "6                   households  1.303777e+06\n",
      "2           housing_median_age  2.319302e+04\n",
      "7                median_income  1.171746e+04\n",
      "9       ocean_proximity_INLAND  6.565265e+03\n",
      "11    ocean_proximity_NEAR BAY  4.079131e+03\n",
      "12  ocean_proximity_NEAR OCEAN  3.993245e+03\n",
      "8    ocean_proximity_<1H OCEAN  3.746993e+03\n"
     ]
    }
   ],
   "source": [
    "from sklearn.feature_selection import SelectKBest\n",
    "from sklearn.feature_selection import chi2\n",
    "# Selection with SelectKBest class to extract top 10 best features\n",
    "bestFeatures = SelectKBest(score_func=chi2, k=10)\n",
    "# Negative longitude data is converted to positive data using absolute values.\n",
    "fit = bestFeatures.fit(X.abs(), Y)\n",
    "\n",
    "dfColumns = pd.DataFrame(X.columns)\n",
    "dfScores = pd.DataFrame(fit.scores_)\n",
    "\n",
    "featureScores = pd.concat([dfColumns, dfScores], axis=1)\n",
    "featureScores.columns = [\"Specs\", \"Score\"]\n",
    "\n",
    "print(featureScores.nlargest(10,\"Score\"))"
   ],
   "metadata": {
    "collapsed": false,
    "pycharm": {
     "name": "#%%\n"
    }
   }
  },
  {
   "cell_type": "code",
   "execution_count": 4,
   "outputs": [
    {
     "name": "stdout",
     "output_type": "stream",
     "text": [
      "[1.22430262e-01 1.21982255e-01 1.13524690e-01 1.24743369e-01\n",
      " 1.23041898e-01 1.24880947e-01 1.23055388e-01 1.36580383e-01\n",
      " 2.80659369e-03 1.91672193e-03 1.23991581e-04 2.10121292e-03\n",
      " 2.81228764e-03]\n"
     ]
    }
   ],
   "source": [
    "model = ExtraTreesClassifier()\n",
    "model.fit(X_train, Y_train)\n",
    "print(model.feature_importances_)"
   ],
   "metadata": {
    "collapsed": false,
    "pycharm": {
     "name": "#%%\n"
    }
   }
  },
  {
   "cell_type": "code",
   "execution_count": 5,
   "outputs": [
    {
     "data": {
      "text/plain": "<Figure size 432x288 with 1 Axes>",
      "image/png": "[encoded data removed]"
     },
     "metadata": {
      "needs_background": "light"
     },
     "output_type": "display_data"
    }
   ],
   "source": [
    "feat_importances = pd.Series(model.feature_importances_, index=X.columns)\n",
    "feat_importances.nlargest(10).plot(kind=\"barh\")\n",
    "plt.show()"
   ],
   "metadata": {
    "collapsed": false,
    "pycharm": {
     "name": "#%%\n"
    }
   }
  }
 ],
 "metadata": {
  "kernelspec": {
   "display_name": "Python 3",
   "language": "python",
   "name": "python3"
  },
  "language_info": {
   "codemirror_mode": {
    "name": "ipython",
    "version": 2
   },
   "file_extension": ".py",
   "mimetype": "text/x-python",
   "name": "python",
   "nbconvert_exporter": "python",
   "pygments_lexer": "ipython2",
   "version": "2.7.6"
  }
 },
 "nbformat": 4,
 "nbformat_minor": 0
}