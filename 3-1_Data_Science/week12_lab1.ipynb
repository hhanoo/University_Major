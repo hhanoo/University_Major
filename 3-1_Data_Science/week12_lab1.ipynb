{
 "cells": [
  {
   "cell_type": "code",
   "execution_count": 1,
   "outputs": [],
   "source": [
    "from sklearn import linear_model\n",
    "from sklearn.preprocessing import OrdinalEncoder\n",
    "from sklearn.preprocessing import StandardScaler\n",
    "from sklearn.model_selection import train_test_split\n",
    "import pandas as pd\n",
    "import warnings\n",
    "\n",
    "warnings.filterwarnings(action='ignore')"
   ],
   "metadata": {
    "collapsed": false,
    "pycharm": {
     "name": "#%%\n"
    }
   }
  },
  {
   "cell_type": "code",
   "execution_count": 2,
   "outputs": [
    {
     "data": {
      "text/plain": "       longitude  latitude  housing_median_age  total_rooms  total_bedrooms  \\\n0        -122.23     37.88                41.0        880.0           129.0   \n1        -122.22     37.86                21.0       7099.0          1106.0   \n2        -122.24     37.85                52.0       1467.0           190.0   \n3        -122.25     37.85                52.0       1274.0           235.0   \n4        -122.25     37.85                52.0       1627.0           280.0   \n...          ...       ...                 ...          ...             ...   \n20635    -121.09     39.48                25.0       1665.0           374.0   \n20636    -121.21     39.49                18.0        697.0           150.0   \n20637    -121.22     39.43                17.0       2254.0           485.0   \n20638    -121.32     39.43                18.0       1860.0           409.0   \n20639    -121.24     39.37                16.0       2785.0           616.0   \n\n       population  households  median_income  median_house_value  \\\n0           322.0       126.0         8.3252            452600.0   \n1          2401.0      1138.0         8.3014            358500.0   \n2           496.0       177.0         7.2574            352100.0   \n3           558.0       219.0         5.6431            341300.0   \n4           565.0       259.0         3.8462            342200.0   \n...           ...         ...            ...                 ...   \n20635       845.0       330.0         1.5603             78100.0   \n20636       356.0       114.0         2.5568             77100.0   \n20637      1007.0       433.0         1.7000             92300.0   \n20638       741.0       349.0         1.8672             84700.0   \n20639      1387.0       530.0         2.3886             89400.0   \n\n      ocean_proximity  \n0            NEAR BAY  \n1            NEAR BAY  \n2            NEAR BAY  \n3            NEAR BAY  \n4            NEAR BAY  \n...               ...  \n20635          INLAND  \n20636          INLAND  \n20637          INLAND  \n20638          INLAND  \n20639          INLAND  \n\n[20640 rows x 10 columns]",
      "text/html": "<div>\n<style scoped>\n    .dataframe tbody tr th:only-of-type {\n        vertical-align: middle;\n    }\n\n    .dataframe tbody tr th {\n        vertical-align: top;\n    }\n\n    .dataframe thead th {\n        text-align: right;\n    }\n</style>\n<table border=\"1\" class=\"dataframe\">\n  <thead>\n    <tr style=\"text-align: right;\">\n      <th></th>\n      <th>longitude</th>\n      <th>latitude</th>\n      <th>housing_median_age</th>\n      <th>total_rooms</th>\n      <th>total_bedrooms</th>\n      <th>population</th>\n      <th>households</th>\n      <th>median_income</th>\n      <th>median_house_value</th>\n      <th>ocean_proximity</th>\n    </tr>\n  </thead>\n  <tbody>\n    <tr>\n      <th>0</th>\n      <td>-122.23</td>\n      <td>37.88</td>\n      <td>41.0</td>\n      <td>880.0</td>\n      <td>129.0</td>\n      <td>322.0</td>\n      <td>126.0</td>\n      <td>8.3252</td>\n      <td>452600.0</td>\n      <td>NEAR BAY</td>\n    </tr>\n    <tr>\n      <th>1</th>\n      <td>-122.22</td>\n      <td>37.86</td>\n      <td>21.0</td>\n      <td>7099.0</td>\n      <td>1106.0</td>\n      <td>2401.0</td>\n      <td>1138.0</td>\n      <td>8.3014</td>\n      <td>358500.0</td>\n      <td>NEAR BAY</td>\n    </tr>\n    <tr>\n      <th>2</th>\n      <td>-122.24</td>\n      <td>37.85</td>\n      <td>52.0</td>\n      <td>1467.0</td>\n      <td>190.0</td>\n      <td>496.0</td>\n      <td>177.0</td>\n      <td>7.2574</td>\n      <td>352100.0</td>\n      <td>NEAR BAY</td>\n    </tr>\n    <tr>\n      <th>3</th>\n      <td>-122.25</td>\n      <td>37.85</td>\n      <td>52.0</td>\n      <td>1274.0</td>\n      <td>235.0</td>\n      <td>558.0</td>\n      <td>219.0</td>\n      <td>5.6431</td>\n      <td>341300.0</td>\n      <td>NEAR BAY</td>\n    </tr>\n    <tr>\n      <th>4</th>\n      <td>-122.25</td>\n      <td>37.85</td>\n      <td>52.0</td>\n      <td>1627.0</td>\n      <td>280.0</td>\n      <td>565.0</td>\n      <td>259.0</td>\n      <td>3.8462</td>\n      <td>342200.0</td>\n      <td>NEAR BAY</td>\n    </tr>\n    <tr>\n      <th>...</th>\n      <td>...</td>\n      <td>...</td>\n      <td>...</td>\n      <td>...</td>\n      <td>...</td>\n      <td>...</td>\n      <td>...</td>\n      <td>...</td>\n      <td>...</td>\n      <td>...</td>\n    </tr>\n    <tr>\n      <th>20635</th>\n      <td>-121.09</td>\n      <td>39.48</td>\n      <td>25.0</td>\n      <td>1665.0</td>\n      <td>374.0</td>\n      <td>845.0</td>\n      <td>330.0</td>\n      <td>1.5603</td>\n      <td>78100.0</td>\n      <td>INLAND</td>\n    </tr>\n    <tr>\n      <th>20636</th>\n      <td>-121.21</td>\n      <td>39.49</td>\n      <td>18.0</td>\n      <td>697.0</td>\n      <td>150.0</td>\n      <td>356.0</td>\n      <td>114.0</td>\n      <td>2.5568</td>\n      <td>77100.0</td>\n      <td>INLAND</td>\n    </tr>\n    <tr>\n      <th>20637</th>\n      <td>-121.22</td>\n      <td>39.43</td>\n      <td>17.0</td>\n      <td>2254.0</td>\n      <td>485.0</td>\n      <td>1007.0</td>\n      <td>433.0</td>\n      <td>1.7000</td>\n      <td>92300.0</td>\n      <td>INLAND</td>\n    </tr>\n    <tr>\n      <th>20638</th>\n      <td>-121.32</td>\n      <td>39.43</td>\n      <td>18.0</td>\n      <td>1860.0</td>\n      <td>409.0</td>\n      <td>741.0</td>\n      <td>349.0</td>\n      <td>1.8672</td>\n      <td>84700.0</td>\n      <td>INLAND</td>\n    </tr>\n    <tr>\n      <th>20639</th>\n      <td>-121.24</td>\n      <td>39.37</td>\n      <td>16.0</td>\n      <td>2785.0</td>\n      <td>616.0</td>\n      <td>1387.0</td>\n      <td>530.0</td>\n      <td>2.3886</td>\n      <td>89400.0</td>\n      <td>INLAND</td>\n    </tr>\n  </tbody>\n</table>\n<p>20640 rows × 10 columns</p>\n</div>"
     },
     "execution_count": 2,
     "metadata": {},
     "output_type": "execute_result"
    }
   ],
   "source": [
    "df = pd.read_csv(\"data/housing.csv\")\n",
    "df"
   ],
   "metadata": {
    "collapsed": false,
    "pycharm": {
     "name": "#%%\n"
    }
   }
  },
  {
   "cell_type": "code",
   "execution_count": 3,
   "outputs": [
    {
     "data": {
      "text/plain": "longitude               0\nlatitude                0\nhousing_median_age      0\ntotal_rooms             0\ntotal_bedrooms        207\npopulation              0\nhouseholds              0\nmedian_income           0\nmedian_house_value      0\nocean_proximity         0\ndtype: int64"
     },
     "execution_count": 3,
     "metadata": {},
     "output_type": "execute_result"
    }
   ],
   "source": [
    "df.isnull().sum()"
   ],
   "metadata": {
    "collapsed": false,
    "pycharm": {
     "name": "#%%\n"
    }
   }
  },
  {
   "cell_type": "code",
   "execution_count": 4,
   "outputs": [
    {
     "data": {
      "text/plain": "longitude             0\nlatitude              0\nhousing_median_age    0\ntotal_rooms           0\ntotal_bedrooms        0\npopulation            0\nhouseholds            0\nmedian_income         0\nmedian_house_value    0\nocean_proximity       0\ndtype: int64"
     },
     "execution_count": 4,
     "metadata": {},
     "output_type": "execute_result"
    }
   ],
   "source": [
    "df = df.fillna(0)\n",
    "df.isnull().sum()"
   ],
   "metadata": {
    "collapsed": false,
    "pycharm": {
     "name": "#%%\n"
    }
   }
  },
  {
   "cell_type": "code",
   "execution_count": 5,
   "outputs": [
    {
     "data": {
      "text/plain": "       longitude  latitude  housing_median_age  total_rooms  total_bedrooms  \\\n0        -122.23     37.88                41.0        880.0           129.0   \n1        -122.22     37.86                21.0       7099.0          1106.0   \n2        -122.24     37.85                52.0       1467.0           190.0   \n3        -122.25     37.85                52.0       1274.0           235.0   \n4        -122.25     37.85                52.0       1627.0           280.0   \n...          ...       ...                 ...          ...             ...   \n20635    -121.09     39.48                25.0       1665.0           374.0   \n20636    -121.21     39.49                18.0        697.0           150.0   \n20637    -121.22     39.43                17.0       2254.0           485.0   \n20638    -121.32     39.43                18.0       1860.0           409.0   \n20639    -121.24     39.37                16.0       2785.0           616.0   \n\n       population  households  median_income  median_house_value  \\\n0           322.0       126.0         8.3252            452600.0   \n1          2401.0      1138.0         8.3014            358500.0   \n2           496.0       177.0         7.2574            352100.0   \n3           558.0       219.0         5.6431            341300.0   \n4           565.0       259.0         3.8462            342200.0   \n...           ...         ...            ...                 ...   \n20635       845.0       330.0         1.5603             78100.0   \n20636       356.0       114.0         2.5568             77100.0   \n20637      1007.0       433.0         1.7000             92300.0   \n20638       741.0       349.0         1.8672             84700.0   \n20639      1387.0       530.0         2.3886             89400.0   \n\n       ocean_proximity  \n0                  3.0  \n1                  3.0  \n2                  3.0  \n3                  3.0  \n4                  3.0  \n...                ...  \n20635              1.0  \n20636              1.0  \n20637              1.0  \n20638              1.0  \n20639              1.0  \n\n[20640 rows x 10 columns]",
      "text/html": "<div>\n<style scoped>\n    .dataframe tbody tr th:only-of-type {\n        vertical-align: middle;\n    }\n\n    .dataframe tbody tr th {\n        vertical-align: top;\n    }\n\n    .dataframe thead th {\n        text-align: right;\n    }\n</style>\n<table border=\"1\" class=\"dataframe\">\n  <thead>\n    <tr style=\"text-align: right;\">\n      <th></th>\n      <th>longitude</th>\n      <th>latitude</th>\n      <th>housing_median_age</th>\n      <th>total_rooms</th>\n      <th>total_bedrooms</th>\n      <th>population</th>\n      <th>households</th>\n      <th>median_income</th>\n      <th>median_house_value</th>\n      <th>ocean_proximity</th>\n    </tr>\n  </thead>\n  <tbody>\n    <tr>\n      <th>0</th>\n      <td>-122.23</td>\n      <td>37.88</td>\n      <td>41.0</td>\n      <td>880.0</td>\n      <td>129.0</td>\n      <td>322.0</td>\n      <td>126.0</td>\n      <td>8.3252</td>\n      <td>452600.0</td>\n      <td>3.0</td>\n    </tr>\n    <tr>\n      <th>1</th>\n      <td>-122.22</td>\n      <td>37.86</td>\n      <td>21.0</td>\n      <td>7099.0</td>\n      <td>1106.0</td>\n      <td>2401.0</td>\n      <td>1138.0</td>\n      <td>8.3014</td>\n      <td>358500.0</td>\n      <td>3.0</td>\n    </tr>\n    <tr>\n      <th>2</th>\n      <td>-122.24</td>\n      <td>37.85</td>\n      <td>52.0</td>\n      <td>1467.0</td>\n      <td>190.0</td>\n      <td>496.0</td>\n      <td>177.0</td>\n      <td>7.2574</td>\n      <td>352100.0</td>\n      <td>3.0</td>\n    </tr>\n    <tr>\n      <th>3</th>\n      <td>-122.25</td>\n      <td>37.85</td>\n      <td>52.0</td>\n      <td>1274.0</td>\n      <td>235.0</td>\n      <td>558.0</td>\n      <td>219.0</td>\n      <td>5.6431</td>\n      <td>341300.0</td>\n      <td>3.0</td>\n    </tr>\n    <tr>\n      <th>4</th>\n      <td>-122.25</td>\n      <td>37.85</td>\n      <td>52.0</td>\n      <td>1627.0</td>\n      <td>280.0</td>\n      <td>565.0</td>\n      <td>259.0</td>\n      <td>3.8462</td>\n      <td>342200.0</td>\n      <td>3.0</td>\n    </tr>\n    <tr>\n      <th>...</th>\n      <td>...</td>\n      <td>...</td>\n      <td>...</td>\n      <td>...</td>\n      <td>...</td>\n      <td>...</td>\n      <td>...</td>\n      <td>...</td>\n      <td>...</td>\n      <td>...</td>\n    </tr>\n    <tr>\n      <th>20635</th>\n      <td>-121.09</td>\n      <td>39.48</td>\n      <td>25.0</td>\n      <td>1665.0</td>\n      <td>374.0</td>\n      <td>845.0</td>\n      <td>330.0</td>\n      <td>1.5603</td>\n      <td>78100.0</td>\n      <td>1.0</td>\n    </tr>\n    <tr>\n      <th>20636</th>\n      <td>-121.21</td>\n      <td>39.49</td>\n      <td>18.0</td>\n      <td>697.0</td>\n      <td>150.0</td>\n      <td>356.0</td>\n      <td>114.0</td>\n      <td>2.5568</td>\n      <td>77100.0</td>\n      <td>1.0</td>\n    </tr>\n    <tr>\n      <th>20637</th>\n      <td>-121.22</td>\n      <td>39.43</td>\n      <td>17.0</td>\n      <td>2254.0</td>\n      <td>485.0</td>\n      <td>1007.0</td>\n      <td>433.0</td>\n      <td>1.7000</td>\n      <td>92300.0</td>\n      <td>1.0</td>\n    </tr>\n    <tr>\n      <th>20638</th>\n      <td>-121.32</td>\n      <td>39.43</td>\n      <td>18.0</td>\n      <td>1860.0</td>\n      <td>409.0</td>\n      <td>741.0</td>\n      <td>349.0</td>\n      <td>1.8672</td>\n      <td>84700.0</td>\n      <td>1.0</td>\n    </tr>\n    <tr>\n      <th>20639</th>\n      <td>-121.24</td>\n      <td>39.37</td>\n      <td>16.0</td>\n      <td>2785.0</td>\n      <td>616.0</td>\n      <td>1387.0</td>\n      <td>530.0</td>\n      <td>2.3886</td>\n      <td>89400.0</td>\n      <td>1.0</td>\n    </tr>\n  </tbody>\n</table>\n<p>20640 rows × 10 columns</p>\n</div>"
     },
     "execution_count": 5,
     "metadata": {},
     "output_type": "execute_result"
    }
   ],
   "source": [
    "# Categorical Data change to Numeric Data\n",
    "encoder = OrdinalEncoder()\n",
    "X = pd.DataFrame(df['ocean_proximity'])\n",
    "encoder.fit(X)\n",
    "# Deep copy\n",
    "house_ordinal = df.copy()\n",
    "house_ordinal['ocean_proximity'] = pd.DataFrame(encoder.transform(X))\n",
    "\n",
    "house_ordinal"
   ],
   "metadata": {
    "collapsed": false,
    "pycharm": {
     "name": "#%%\n"
    }
   }
  },
  {
   "cell_type": "code",
   "execution_count": 6,
   "outputs": [
    {
     "data": {
      "text/plain": "       longitude  latitude  housing_median_age  total_rooms  total_bedrooms  \\\n0      -1.327835  1.052548            0.982143    -0.804819       -0.954593   \n1      -1.322844  1.043185           -0.607019     2.045890        1.356913   \n2      -1.332827  1.038503            1.856182    -0.535746       -0.810272   \n3      -1.337818  1.038503            1.856182    -0.624215       -0.703806   \n4      -1.337818  1.038503            1.856182    -0.462404       -0.597339   \n...          ...       ...                 ...          ...             ...   \n20635  -0.758826  1.801647           -0.289187    -0.444985       -0.374942   \n20636  -0.818722  1.806329           -0.845393    -0.888704       -0.904909   \n20637  -0.823713  1.778237           -0.924851    -0.174995       -0.112325   \n20638  -0.873626  1.778237           -0.845393    -0.355600       -0.292135   \n20639  -0.833696  1.750146           -1.004309     0.068408        0.197611   \n\n       population  households  median_income  median_house_value  \\\n0       -0.974429   -0.977033       2.344766            2.129631   \n1        0.861439    1.669961       2.332238            1.314156   \n2       -0.820777   -0.843637       1.782699            1.258693   \n3       -0.766028   -0.733781       0.932968            1.165100   \n4       -0.759847   -0.629157      -0.012881            1.172900   \n...           ...         ...            ...                 ...   \n20635   -0.512592   -0.443449      -1.216128           -1.115804   \n20636   -0.944405   -1.008420      -0.691593           -1.124470   \n20637   -0.369537   -0.174042      -1.142593           -0.992746   \n20638   -0.604429   -0.393753      -1.054583           -1.058608   \n20639   -0.033977    0.079672      -0.780129           -1.017878   \n\n       ocean_proximity  \n0             1.291089  \n1             1.291089  \n2             1.291089  \n3             1.291089  \n4             1.291089  \n...                ...  \n20635        -0.116739  \n20636        -0.116739  \n20637        -0.116739  \n20638        -0.116739  \n20639        -0.116739  \n\n[20640 rows x 10 columns]",
      "text/html": "<div>\n<style scoped>\n    .dataframe tbody tr th:only-of-type {\n        vertical-align: middle;\n    }\n\n    .dataframe tbody tr th {\n        vertical-align: top;\n    }\n\n    .dataframe thead th {\n        text-align: right;\n    }\n</style>\n<table border=\"1\" class=\"dataframe\">\n  <thead>\n    <tr style=\"text-align: right;\">\n      <th></th>\n      <th>longitude</th>\n      <th>latitude</th>\n      <th>housing_median_age</th>\n      <th>total_rooms</th>\n      <th>total_bedrooms</th>\n      <th>population</th>\n      <th>households</th>\n      <th>median_income</th>\n      <th>median_house_value</th>\n      <th>ocean_proximity</th>\n    </tr>\n  </thead>\n  <tbody>\n    <tr>\n      <th>0</th>\n      <td>-1.327835</td>\n      <td>1.052548</td>\n      <td>0.982143</td>\n      <td>-0.804819</td>\n      <td>-0.954593</td>\n      <td>-0.974429</td>\n      <td>-0.977033</td>\n      <td>2.344766</td>\n      <td>2.129631</td>\n      <td>1.291089</td>\n    </tr>\n    <tr>\n      <th>1</th>\n      <td>-1.322844</td>\n      <td>1.043185</td>\n      <td>-0.607019</td>\n      <td>2.045890</td>\n      <td>1.356913</td>\n      <td>0.861439</td>\n      <td>1.669961</td>\n      <td>2.332238</td>\n      <td>1.314156</td>\n      <td>1.291089</td>\n    </tr>\n    <tr>\n      <th>2</th>\n      <td>-1.332827</td>\n      <td>1.038503</td>\n      <td>1.856182</td>\n      <td>-0.535746</td>\n      <td>-0.810272</td>\n      <td>-0.820777</td>\n      <td>-0.843637</td>\n      <td>1.782699</td>\n      <td>1.258693</td>\n      <td>1.291089</td>\n    </tr>\n    <tr>\n      <th>3</th>\n      <td>-1.337818</td>\n      <td>1.038503</td>\n      <td>1.856182</td>\n      <td>-0.624215</td>\n      <td>-0.703806</td>\n      <td>-0.766028</td>\n      <td>-0.733781</td>\n      <td>0.932968</td>\n      <td>1.165100</td>\n      <td>1.291089</td>\n    </tr>\n    <tr>\n      <th>4</th>\n      <td>-1.337818</td>\n      <td>1.038503</td>\n      <td>1.856182</td>\n      <td>-0.462404</td>\n      <td>-0.597339</td>\n      <td>-0.759847</td>\n      <td>-0.629157</td>\n      <td>-0.012881</td>\n      <td>1.172900</td>\n      <td>1.291089</td>\n    </tr>\n    <tr>\n      <th>...</th>\n      <td>...</td>\n      <td>...</td>\n      <td>...</td>\n      <td>...</td>\n      <td>...</td>\n      <td>...</td>\n      <td>...</td>\n      <td>...</td>\n      <td>...</td>\n      <td>...</td>\n    </tr>\n    <tr>\n      <th>20635</th>\n      <td>-0.758826</td>\n      <td>1.801647</td>\n      <td>-0.289187</td>\n      <td>-0.444985</td>\n      <td>-0.374942</td>\n      <td>-0.512592</td>\n      <td>-0.443449</td>\n      <td>-1.216128</td>\n      <td>-1.115804</td>\n      <td>-0.116739</td>\n    </tr>\n    <tr>\n      <th>20636</th>\n      <td>-0.818722</td>\n      <td>1.806329</td>\n      <td>-0.845393</td>\n      <td>-0.888704</td>\n      <td>-0.904909</td>\n      <td>-0.944405</td>\n      <td>-1.008420</td>\n      <td>-0.691593</td>\n      <td>-1.124470</td>\n      <td>-0.116739</td>\n    </tr>\n    <tr>\n      <th>20637</th>\n      <td>-0.823713</td>\n      <td>1.778237</td>\n      <td>-0.924851</td>\n      <td>-0.174995</td>\n      <td>-0.112325</td>\n      <td>-0.369537</td>\n      <td>-0.174042</td>\n      <td>-1.142593</td>\n      <td>-0.992746</td>\n      <td>-0.116739</td>\n    </tr>\n    <tr>\n      <th>20638</th>\n      <td>-0.873626</td>\n      <td>1.778237</td>\n      <td>-0.845393</td>\n      <td>-0.355600</td>\n      <td>-0.292135</td>\n      <td>-0.604429</td>\n      <td>-0.393753</td>\n      <td>-1.054583</td>\n      <td>-1.058608</td>\n      <td>-0.116739</td>\n    </tr>\n    <tr>\n      <th>20639</th>\n      <td>-0.833696</td>\n      <td>1.750146</td>\n      <td>-1.004309</td>\n      <td>0.068408</td>\n      <td>0.197611</td>\n      <td>-0.033977</td>\n      <td>0.079672</td>\n      <td>-0.780129</td>\n      <td>-1.017878</td>\n      <td>-0.116739</td>\n    </tr>\n  </tbody>\n</table>\n<p>20640 rows × 10 columns</p>\n</div>"
     },
     "execution_count": 6,
     "metadata": {},
     "output_type": "execute_result"
    }
   ],
   "source": [
    "# Scaling using standardScalr\n",
    "scaler = StandardScaler()\n",
    "house_scaled = scaler.fit_transform(house_ordinal)\n",
    "house_scaled = pd.DataFrame(house_scaled, columns=house_ordinal.columns)\n",
    "\n",
    "house_scaled"
   ],
   "metadata": {
    "collapsed": false,
    "pycharm": {
     "name": "#%%\n"
    }
   }
  },
  {
   "cell_type": "code",
   "execution_count": 7,
   "outputs": [],
   "source": [
    "# Spit the data from target\n",
    "x, y = house_scaled.drop(['median_house_value'], axis=1), house_scaled['median_house_value']"
   ],
   "metadata": {
    "collapsed": false,
    "pycharm": {
     "name": "#%%\n"
    }
   }
  },
  {
   "cell_type": "code",
   "execution_count": 8,
   "outputs": [
    {
     "data": {
      "text/plain": "       longitude  latitude  housing_median_age  total_rooms  total_bedrooms  \\\n0      -1.327835  1.052548            0.982143    -0.804819       -0.954593   \n1      -1.322844  1.043185           -0.607019     2.045890        1.356913   \n2      -1.332827  1.038503            1.856182    -0.535746       -0.810272   \n3      -1.337818  1.038503            1.856182    -0.624215       -0.703806   \n4      -1.337818  1.038503            1.856182    -0.462404       -0.597339   \n...          ...       ...                 ...          ...             ...   \n20635  -0.758826  1.801647           -0.289187    -0.444985       -0.374942   \n20636  -0.818722  1.806329           -0.845393    -0.888704       -0.904909   \n20637  -0.823713  1.778237           -0.924851    -0.174995       -0.112325   \n20638  -0.873626  1.778237           -0.845393    -0.355600       -0.292135   \n20639  -0.833696  1.750146           -1.004309     0.068408        0.197611   \n\n       population  households  median_income  ocean_proximity  \n0       -0.974429   -0.977033       2.344766         1.291089  \n1        0.861439    1.669961       2.332238         1.291089  \n2       -0.820777   -0.843637       1.782699         1.291089  \n3       -0.766028   -0.733781       0.932968         1.291089  \n4       -0.759847   -0.629157      -0.012881         1.291089  \n...           ...         ...            ...              ...  \n20635   -0.512592   -0.443449      -1.216128        -0.116739  \n20636   -0.944405   -1.008420      -0.691593        -0.116739  \n20637   -0.369537   -0.174042      -1.142593        -0.116739  \n20638   -0.604429   -0.393753      -1.054583        -0.116739  \n20639   -0.033977    0.079672      -0.780129        -0.116739  \n\n[20640 rows x 9 columns]",
      "text/html": "<div>\n<style scoped>\n    .dataframe tbody tr th:only-of-type {\n        vertical-align: middle;\n    }\n\n    .dataframe tbody tr th {\n        vertical-align: top;\n    }\n\n    .dataframe thead th {\n        text-align: right;\n    }\n</style>\n<table border=\"1\" class=\"dataframe\">\n  <thead>\n    <tr style=\"text-align: right;\">\n      <th></th>\n      <th>longitude</th>\n      <th>latitude</th>\n      <th>housing_median_age</th>\n      <th>total_rooms</th>\n      <th>total_bedrooms</th>\n      <th>population</th>\n      <th>households</th>\n      <th>median_income</th>\n      <th>ocean_proximity</th>\n    </tr>\n  </thead>\n  <tbody>\n    <tr>\n      <th>0</th>\n      <td>-1.327835</td>\n      <td>1.052548</td>\n      <td>0.982143</td>\n      <td>-0.804819</td>\n      <td>-0.954593</td>\n      <td>-0.974429</td>\n      <td>-0.977033</td>\n      <td>2.344766</td>\n      <td>1.291089</td>\n    </tr>\n    <tr>\n      <th>1</th>\n      <td>-1.322844</td>\n      <td>1.043185</td>\n      <td>-0.607019</td>\n      <td>2.045890</td>\n      <td>1.356913</td>\n      <td>0.861439</td>\n      <td>1.669961</td>\n      <td>2.332238</td>\n      <td>1.291089</td>\n    </tr>\n    <tr>\n      <th>2</th>\n      <td>-1.332827</td>\n      <td>1.038503</td>\n      <td>1.856182</td>\n      <td>-0.535746</td>\n      <td>-0.810272</td>\n      <td>-0.820777</td>\n      <td>-0.843637</td>\n      <td>1.782699</td>\n      <td>1.291089</td>\n    </tr>\n    <tr>\n      <th>3</th>\n      <td>-1.337818</td>\n      <td>1.038503</td>\n      <td>1.856182</td>\n      <td>-0.624215</td>\n      <td>-0.703806</td>\n      <td>-0.766028</td>\n      <td>-0.733781</td>\n      <td>0.932968</td>\n      <td>1.291089</td>\n    </tr>\n    <tr>\n      <th>4</th>\n      <td>-1.337818</td>\n      <td>1.038503</td>\n      <td>1.856182</td>\n      <td>-0.462404</td>\n      <td>-0.597339</td>\n      <td>-0.759847</td>\n      <td>-0.629157</td>\n      <td>-0.012881</td>\n      <td>1.291089</td>\n    </tr>\n    <tr>\n      <th>...</th>\n      <td>...</td>\n      <td>...</td>\n      <td>...</td>\n      <td>...</td>\n      <td>...</td>\n      <td>...</td>\n      <td>...</td>\n      <td>...</td>\n      <td>...</td>\n    </tr>\n    <tr>\n      <th>20635</th>\n      <td>-0.758826</td>\n      <td>1.801647</td>\n      <td>-0.289187</td>\n      <td>-0.444985</td>\n      <td>-0.374942</td>\n      <td>-0.512592</td>\n      <td>-0.443449</td>\n      <td>-1.216128</td>\n      <td>-0.116739</td>\n    </tr>\n    <tr>\n      <th>20636</th>\n      <td>-0.818722</td>\n      <td>1.806329</td>\n      <td>-0.845393</td>\n      <td>-0.888704</td>\n      <td>-0.904909</td>\n      <td>-0.944405</td>\n      <td>-1.008420</td>\n      <td>-0.691593</td>\n      <td>-0.116739</td>\n    </tr>\n    <tr>\n      <th>20637</th>\n      <td>-0.823713</td>\n      <td>1.778237</td>\n      <td>-0.924851</td>\n      <td>-0.174995</td>\n      <td>-0.112325</td>\n      <td>-0.369537</td>\n      <td>-0.174042</td>\n      <td>-1.142593</td>\n      <td>-0.116739</td>\n    </tr>\n    <tr>\n      <th>20638</th>\n      <td>-0.873626</td>\n      <td>1.778237</td>\n      <td>-0.845393</td>\n      <td>-0.355600</td>\n      <td>-0.292135</td>\n      <td>-0.604429</td>\n      <td>-0.393753</td>\n      <td>-1.054583</td>\n      <td>-0.116739</td>\n    </tr>\n    <tr>\n      <th>20639</th>\n      <td>-0.833696</td>\n      <td>1.750146</td>\n      <td>-1.004309</td>\n      <td>0.068408</td>\n      <td>0.197611</td>\n      <td>-0.033977</td>\n      <td>0.079672</td>\n      <td>-0.780129</td>\n      <td>-0.116739</td>\n    </tr>\n  </tbody>\n</table>\n<p>20640 rows × 9 columns</p>\n</div>"
     },
     "execution_count": 8,
     "metadata": {},
     "output_type": "execute_result"
    }
   ],
   "source": [
    "x"
   ],
   "metadata": {
    "collapsed": false,
    "pycharm": {
     "name": "#%%\n"
    }
   }
  },
  {
   "cell_type": "code",
   "execution_count": 9,
   "outputs": [
    {
     "data": {
      "text/plain": "0        2.129631\n1        1.314156\n2        1.258693\n3        1.165100\n4        1.172900\n           ...   \n20635   -1.115804\n20636   -1.124470\n20637   -0.992746\n20638   -1.058608\n20639   -1.017878\nName: median_house_value, Length: 20640, dtype: float64"
     },
     "execution_count": 9,
     "metadata": {},
     "output_type": "execute_result"
    }
   ],
   "source": [
    "y"
   ],
   "metadata": {
    "collapsed": false,
    "pycharm": {
     "name": "#%%\n"
    }
   }
  },
  {
   "cell_type": "code",
   "execution_count": 10,
   "outputs": [],
   "source": [
    "def linearRegression(dataX, dataY, testSize):\n",
    "    reg = linear_model.LinearRegression()\n",
    "\n",
    "    # Split the dataset into training and testing\n",
    "    x_train, x_test, y_train, y_test = train_test_split(dataX, dataY, test_size=testSize, random_state=42, shuffle=True)\n",
    "    reg.fit(x_train, y_train)\n",
    "\n",
    "    # Compute data and find result\n",
    "    resultCoef = reg.coef_\n",
    "    resultInter = reg.intercept_\n",
    "    resultTrainsoc = reg.score(x_train, y_train)\n",
    "    resultTestSoc = reg.score(x_test, y_test)\n",
    "\n",
    "    # data collect\n",
    "    return resultCoef, resultInter, resultTrainsoc,resultTestSoc\n"
   ],
   "metadata": {
    "collapsed": false,
    "pycharm": {
     "name": "#%%\n"
    }
   }
  },
  {
   "cell_type": "code",
   "execution_count": 11,
   "outputs": [
    {
     "name": "stdout",
     "output_type": "stream",
     "text": [
      "[Train : test = 4 : 1]\n",
      "\n",
      "Coefficients:  [-0.74324069 -0.78788497  0.12916171 -0.15382273  0.42632804 -0.37876811\n",
      "  0.15308005  0.66696867 -0.00392516]\n",
      "Intercept:  -0.006291849996386151\n",
      "TrainSet score: 0.64\n",
      "TestSet score: 0.5993\n"
     ]
    }
   ],
   "source": [
    "# Split the dataset train:test = 4:1\n",
    "result1Coef, result1Inter, result1Trainsoc, result1TestSoc = linearRegression(x, y, 0.2)\n",
    "\n",
    "print(\"[Train : test = 4 : 1]\\n\")\n",
    "print('Coefficients: ', result1Coef)\n",
    "print('Intercept: ', result1Inter)\n",
    "print('TrainSet score: %.2f' % result1Trainsoc)\n",
    "print('TestSet score: %.4f' % result1TestSoc)"
   ],
   "metadata": {
    "collapsed": false,
    "pycharm": {
     "name": "#%%\n"
    }
   }
  },
  {
   "cell_type": "code",
   "execution_count": 12,
   "outputs": [
    {
     "name": "stdout",
     "output_type": "stream",
     "text": [
      "[Train : Test = 3 : 2]\n",
      "\n",
      "Coefficients:  [-0.74699474 -0.78876111  0.12496187 -0.16206356  0.45970442 -0.37468376\n",
      "  0.12105963  0.66613177 -0.00494608]\n",
      "Intercept:  -0.007866047041059233\n",
      "TrainSet score: 0.64\n",
      "TestSet score: 0.6196\n"
     ]
    }
   ],
   "source": [
    "# Split the dataset train:test = 3:2\n",
    "result2Coef, result2Inter, result2Trainsoc, result2TestSoc = linearRegression(x, y, 0.4)\n",
    "\n",
    "print(\"[Train : Test = 3 : 2]\\n\")\n",
    "print('Coefficients: ', result2Coef)\n",
    "print('Intercept: ', result2Inter)\n",
    "print('TrainSet score: %.2f' % result2Trainsoc)\n",
    "print('TestSet score: %.4f' % result2TestSoc)"
   ],
   "metadata": {
    "collapsed": false,
    "pycharm": {
     "name": "#%%\n"
    }
   }
  }
 ],
 "metadata": {
  "kernelspec": {
   "display_name": "Python 3",
   "language": "python",
   "name": "python3"
  },
  "language_info": {
   "codemirror_mode": {
    "name": "ipython",
    "version": 2
   },
   "file_extension": ".py",
   "mimetype": "text/x-python",
   "name": "python",
   "nbconvert_exporter": "python",
   "pygments_lexer": "ipython2",
   "version": "2.7.6"
  }
 },
 "nbformat": 4,
 "nbformat_minor": 0
}