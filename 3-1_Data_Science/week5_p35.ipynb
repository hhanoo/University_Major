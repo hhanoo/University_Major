{
 "cells": [
  {
   "cell_type": "code",
   "execution_count": 1,
   "outputs": [],
   "source": [
    "import pandas as pd\n",
    "import numpy as np\n",
    "import featuretools as ft\n",
    "from woodwork.logical_types import Categorical"
   ],
   "metadata": {
    "collapsed": false,
    "pycharm": {
     "name": "#%%\n"
    }
   }
  },
  {
   "cell_type": "code",
   "execution_count": 2,
   "outputs": [
    {
     "data": {
      "text/plain": "Entityset: clients\n  DataFrames:\n  Relationships:\n    No relationships"
     },
     "execution_count": 2,
     "metadata": {},
     "output_type": "execute_result"
    }
   ],
   "source": [
    "# load dataFrame\n",
    "clients_df = pd.read_csv(\"data/clients.csv\")\n",
    "loans_df = pd.read_csv(\"data/loans.csv\")\n",
    "payments_df = pd.read_csv(\"data/payments.csv\")# Create new entity-set\n",
    "es = ft.EntitySet(id=\"clients\")\n",
    "\n",
    "es"
   ],
   "metadata": {
    "collapsed": false,
    "pycharm": {
     "name": "#%%\n"
    }
   }
  },
  {
   "cell_type": "code",
   "execution_count": 3,
   "outputs": [
    {
     "data": {
      "text/plain": "Entityset: clients\n  DataFrames:\n    clients [Rows: 25, Columns: 4]\n    loans [Rows: 443, Columns: 8]\n    payments [Rows: 3456, Columns: 5]\n  Relationships:\n    No relationships"
     },
     "execution_count": 3,
     "metadata": {},
     "output_type": "execute_result"
    }
   ],
   "source": [
    "# Attribute 'entity_from_dataframe' is OLD version\n",
    "# Attribute 'add_dataframe' is NEW version\n",
    "# Add an entity to entity-set\n",
    "es = es.add_dataframe(dataframe_name=\"clients\",\n",
    "                      dataframe=clients_df,\n",
    "                      index=\"client_id\",\n",
    "                      time_index=\"joined\")\n",
    "\n",
    "es = es.add_dataframe(dataframe_name=\"loans\",\n",
    "                      dataframe=loans_df,\n",
    "                      logical_types={\"repaid\": Categorical},\n",
    "                      index=\"loan_id\",\n",
    "                      time_index=\"loan_start\")\n",
    "\n",
    "es = es.add_dataframe(dataframe_name=\"payments\",\n",
    "                      dataframe=payments_df,\n",
    "                      logical_types={\"missed\": Categorical},\n",
    "                      make_index=True,\n",
    "                      index=\"payment_id\",\n",
    "                      time_index=\"payment_date\")\n",
    "\n",
    "es"
   ],
   "metadata": {
    "collapsed": false,
    "pycharm": {
     "name": "#%%\n"
    }
   }
  },
  {
   "cell_type": "code",
   "execution_count": 4,
   "outputs": [
    {
     "data": {
      "text/plain": "       client_id     joined  income  credit_score  total_loan_amount\n42320      42320 2000-04-27  229481           563             105931\n39384      39384 2000-06-18  191204           617             149444\n26945      26945 2000-11-26  214516           806             106889\n41472      41472 2001-11-06  152214           638             120173\n46180      46180 2001-11-06   43851           562             154017\n46109      46109 2002-04-16  172677           527             179032\n32885      32885 2002-05-13   58955           642             148806\n29841      29841 2002-08-17   38354           523             176634\n38537      38537 2002-10-21  127183           643             152768\n35214      35214 2003-08-08   95849           696             129124",
      "text/html": "<div>\n<style scoped>\n    .dataframe tbody tr th:only-of-type {\n        vertical-align: middle;\n    }\n\n    .dataframe tbody tr th {\n        vertical-align: top;\n    }\n\n    .dataframe thead th {\n        text-align: right;\n    }\n</style>\n<table border=\"1\" class=\"dataframe\">\n  <thead>\n    <tr style=\"text-align: right;\">\n      <th></th>\n      <th>client_id</th>\n      <th>joined</th>\n      <th>income</th>\n      <th>credit_score</th>\n      <th>total_loan_amount</th>\n    </tr>\n  </thead>\n  <tbody>\n    <tr>\n      <th>42320</th>\n      <td>42320</td>\n      <td>2000-04-27</td>\n      <td>229481</td>\n      <td>563</td>\n      <td>105931</td>\n    </tr>\n    <tr>\n      <th>39384</th>\n      <td>39384</td>\n      <td>2000-06-18</td>\n      <td>191204</td>\n      <td>617</td>\n      <td>149444</td>\n    </tr>\n    <tr>\n      <th>26945</th>\n      <td>26945</td>\n      <td>2000-11-26</td>\n      <td>214516</td>\n      <td>806</td>\n      <td>106889</td>\n    </tr>\n    <tr>\n      <th>41472</th>\n      <td>41472</td>\n      <td>2001-11-06</td>\n      <td>152214</td>\n      <td>638</td>\n      <td>120173</td>\n    </tr>\n    <tr>\n      <th>46180</th>\n      <td>46180</td>\n      <td>2001-11-06</td>\n      <td>43851</td>\n      <td>562</td>\n      <td>154017</td>\n    </tr>\n    <tr>\n      <th>46109</th>\n      <td>46109</td>\n      <td>2002-04-16</td>\n      <td>172677</td>\n      <td>527</td>\n      <td>179032</td>\n    </tr>\n    <tr>\n      <th>32885</th>\n      <td>32885</td>\n      <td>2002-05-13</td>\n      <td>58955</td>\n      <td>642</td>\n      <td>148806</td>\n    </tr>\n    <tr>\n      <th>29841</th>\n      <td>29841</td>\n      <td>2002-08-17</td>\n      <td>38354</td>\n      <td>523</td>\n      <td>176634</td>\n    </tr>\n    <tr>\n      <th>38537</th>\n      <td>38537</td>\n      <td>2002-10-21</td>\n      <td>127183</td>\n      <td>643</td>\n      <td>152768</td>\n    </tr>\n    <tr>\n      <th>35214</th>\n      <td>35214</td>\n      <td>2003-08-08</td>\n      <td>95849</td>\n      <td>696</td>\n      <td>129124</td>\n    </tr>\n  </tbody>\n</table>\n</div>"
     },
     "execution_count": 4,
     "metadata": {},
     "output_type": "execute_result"
    }
   ],
   "source": [
    "# Aggregation\n",
    "# Group loans by client id and calculate total of loans\n",
    "stats = loans_df.groupby('client_id')['loan_amount'].agg(['sum'])\n",
    "stats.columns = ['total_loan_amount']\n",
    "\n",
    "# Merge with the clients dataframe\n",
    "stats = clients_df.merge(stats, left_on='client_id', right_index=True, how=\"left\")\n",
    "stats.head(10)\n",
    "\n"
   ],
   "metadata": {
    "collapsed": false,
    "pycharm": {
     "name": "#%%\n"
    }
   }
  },
  {
   "cell_type": "code",
   "execution_count": 5,
   "outputs": [
    {
     "data": {
      "text/plain": "Entityset: clients\n  DataFrames:\n    clients [Rows: 25, Columns: 4]\n    loans [Rows: 443, Columns: 8]\n    payments [Rows: 3456, Columns: 5]\n  Relationships:\n    loans.client_id -> clients.client_id\n    payments.loan_id -> loans.loan_id"
     },
     "execution_count": 5,
     "metadata": {},
     "output_type": "execute_result"
    }
   ],
   "source": [
    "# --------------------------------------------------\n",
    "# Relationships Between Entities\n",
    "# Between clients and previous loans\n",
    "r_client_previous = ft.Relationship(es, 'clients', 'client_id', 'loans', 'client_id')\n",
    "\n",
    "# Between previous loans and previous payments\n",
    "r_payments = ft.Relationship(es, 'loans', 'loan_id', 'payments', 'loan_id')\n",
    "\n",
    "# Add the relationship to the entity set\n",
    "es = es.add_relationship(relationship=r_client_previous)\n",
    "es = es.add_relationship(relationship=r_payments)\n",
    "\n",
    "es"
   ],
   "metadata": {
    "collapsed": false,
    "pycharm": {
     "name": "#%%\n"
    }
   }
  },
  {
   "cell_type": "code",
   "execution_count": 6,
   "outputs": [
    {
     "data": {
      "text/plain": "           income  credit_score  SUM(loans.loan_amount)  SUM(loans.rate)  \\\nclient_id                                                                  \n42320      229481           563                105931.0            36.86   \n39384      191204           617                149444.0            67.23   \n26945      214516           806                106889.0            42.83   \n41472      152214           638                120173.0            63.70   \n46180       43851           562                154017.0            70.05   \n46109      172677           527                179032.0            63.05   \n32885       58955           642                148806.0            36.54   \n29841       38354           523                176634.0            62.01   \n38537      127183           643                152768.0            40.62   \n35214       95849           696                129124.0            55.95   \n49068      128813           603                137122.0            55.72   \n26326      227920           633                116321.0            40.28   \n26695      174532           680                140845.0            44.39   \n44601      156341           518                137385.0            83.02   \n32726      235705           730                126032.0            58.12   \n25707      211422           621                159279.0            69.54   \n49545      104564           770                205786.0            53.68   \n48177      190632           769                141063.0            74.84   \n32961      230341           714                133998.0            66.82   \n44387      151903           781                110816.0            42.10   \n35089      131176           771                138784.0            70.27   \n46958      225709           644                121919.0            41.00   \n39505      153873           610                148481.0            63.81   \n49624       49036           800                137618.0            60.56   \n41480      122607           585                157897.0            62.21   \n\n           SUM(payments.payment_amount) MONTH(joined) YEAR(joined)  \\\nclient_id                                                            \n42320                          122578.0             4         2000   \n39384                          174270.0             6         2000   \n26945                          124261.0            11         2000   \n41472                          118553.0            11         2001   \n46180                          176796.0            11         2001   \n46109                          193954.0             4         2002   \n32885                          160597.0             5         2002   \n29841                          215915.0             8         2002   \n38537                          164904.0            10         2002   \n35214                          178780.0             8         2003   \n49068                          179442.0             2         2004   \n26326                          155176.0             5         2004   \n26695                          164211.0             8         2004   \n44601                          169691.0            10         2004   \n32726                          142589.0             5         2006   \n25707                          189747.0            10         2006   \n49545                          282907.0            11         2007   \n48177                          189555.0             6         2008   \n32961                          136116.0             4         2009   \n44387                          115077.0             7         2009   \n35089                          174065.0             3         2010   \n46958                          123870.0             7         2011   \n39505                          175466.0            10         2011   \n49624                          143329.0             8         2012   \n41480                          188223.0             3         2013   \n\n           SUM(payments.loans.loan_amount)  SUM(payments.loans.rate)  \nclient_id                                                             \n42320                             843367.0                    302.84  \n39384                            1161741.0                    499.12  \n26945                             771053.0                    330.13  \n41472                             784731.0                    435.36  \n46180                            1142666.0                    578.43  \n46109                            1199661.0                    450.55  \n32885                            1086206.0                    244.97  \n29841                            1479162.0                    494.77  \n38537                            1086422.0                    318.07  \n35214                            1155314.0                    515.92  \n49068                            1135240.0                    434.45  \n26326                             950439.0                    316.28  \n26695                            1038464.0                    354.66  \n44601                            1156548.0                    654.67  \n32726                             907656.0                    461.96  \n25707                            1288666.0                    531.10  \n49545                            2003153.0                    593.25  \n48177                            1221517.0                    614.37  \n32961                             946310.0                    511.54  \n44387                             810865.0                    284.30  \n35089                            1149727.0                    530.09  \n46958                             859094.0                    285.21  \n39505                            1155246.0                    466.67  \n49624                             954116.0                    437.82  \n41480                            1125802.0                    437.64  ",
      "text/html": "<div>\n<style scoped>\n    .dataframe tbody tr th:only-of-type {\n        vertical-align: middle;\n    }\n\n    .dataframe tbody tr th {\n        vertical-align: top;\n    }\n\n    .dataframe thead th {\n        text-align: right;\n    }\n</style>\n<table border=\"1\" class=\"dataframe\">\n  <thead>\n    <tr style=\"text-align: right;\">\n      <th></th>\n      <th>income</th>\n      <th>credit_score</th>\n      <th>SUM(loans.loan_amount)</th>\n      <th>SUM(loans.rate)</th>\n      <th>SUM(payments.payment_amount)</th>\n      <th>MONTH(joined)</th>\n      <th>YEAR(joined)</th>\n      <th>SUM(payments.loans.loan_amount)</th>\n      <th>SUM(payments.loans.rate)</th>\n    </tr>\n    <tr>\n      <th>client_id</th>\n      <th></th>\n      <th></th>\n      <th></th>\n      <th></th>\n      <th></th>\n      <th></th>\n      <th></th>\n      <th></th>\n      <th></th>\n    </tr>\n  </thead>\n  <tbody>\n    <tr>\n      <th>42320</th>\n      <td>229481</td>\n      <td>563</td>\n      <td>105931.0</td>\n      <td>36.86</td>\n      <td>122578.0</td>\n      <td>4</td>\n      <td>2000</td>\n      <td>843367.0</td>\n      <td>302.84</td>\n    </tr>\n    <tr>\n      <th>39384</th>\n      <td>191204</td>\n      <td>617</td>\n      <td>149444.0</td>\n      <td>67.23</td>\n      <td>174270.0</td>\n      <td>6</td>\n      <td>2000</td>\n      <td>1161741.0</td>\n      <td>499.12</td>\n    </tr>\n    <tr>\n      <th>26945</th>\n      <td>214516</td>\n      <td>806</td>\n      <td>106889.0</td>\n      <td>42.83</td>\n      <td>124261.0</td>\n      <td>11</td>\n      <td>2000</td>\n      <td>771053.0</td>\n      <td>330.13</td>\n    </tr>\n    <tr>\n      <th>41472</th>\n      <td>152214</td>\n      <td>638</td>\n      <td>120173.0</td>\n      <td>63.70</td>\n      <td>118553.0</td>\n      <td>11</td>\n      <td>2001</td>\n      <td>784731.0</td>\n      <td>435.36</td>\n    </tr>\n    <tr>\n      <th>46180</th>\n      <td>43851</td>\n      <td>562</td>\n      <td>154017.0</td>\n      <td>70.05</td>\n      <td>176796.0</td>\n      <td>11</td>\n      <td>2001</td>\n      <td>1142666.0</td>\n      <td>578.43</td>\n    </tr>\n    <tr>\n      <th>46109</th>\n      <td>172677</td>\n      <td>527</td>\n      <td>179032.0</td>\n      <td>63.05</td>\n      <td>193954.0</td>\n      <td>4</td>\n      <td>2002</td>\n      <td>1199661.0</td>\n      <td>450.55</td>\n    </tr>\n    <tr>\n      <th>32885</th>\n      <td>58955</td>\n      <td>642</td>\n      <td>148806.0</td>\n      <td>36.54</td>\n      <td>160597.0</td>\n      <td>5</td>\n      <td>2002</td>\n      <td>1086206.0</td>\n      <td>244.97</td>\n    </tr>\n    <tr>\n      <th>29841</th>\n      <td>38354</td>\n      <td>523</td>\n      <td>176634.0</td>\n      <td>62.01</td>\n      <td>215915.0</td>\n      <td>8</td>\n      <td>2002</td>\n      <td>1479162.0</td>\n      <td>494.77</td>\n    </tr>\n    <tr>\n      <th>38537</th>\n      <td>127183</td>\n      <td>643</td>\n      <td>152768.0</td>\n      <td>40.62</td>\n      <td>164904.0</td>\n      <td>10</td>\n      <td>2002</td>\n      <td>1086422.0</td>\n      <td>318.07</td>\n    </tr>\n    <tr>\n      <th>35214</th>\n      <td>95849</td>\n      <td>696</td>\n      <td>129124.0</td>\n      <td>55.95</td>\n      <td>178780.0</td>\n      <td>8</td>\n      <td>2003</td>\n      <td>1155314.0</td>\n      <td>515.92</td>\n    </tr>\n    <tr>\n      <th>49068</th>\n      <td>128813</td>\n      <td>603</td>\n      <td>137122.0</td>\n      <td>55.72</td>\n      <td>179442.0</td>\n      <td>2</td>\n      <td>2004</td>\n      <td>1135240.0</td>\n      <td>434.45</td>\n    </tr>\n    <tr>\n      <th>26326</th>\n      <td>227920</td>\n      <td>633</td>\n      <td>116321.0</td>\n      <td>40.28</td>\n      <td>155176.0</td>\n      <td>5</td>\n      <td>2004</td>\n      <td>950439.0</td>\n      <td>316.28</td>\n    </tr>\n    <tr>\n      <th>26695</th>\n      <td>174532</td>\n      <td>680</td>\n      <td>140845.0</td>\n      <td>44.39</td>\n      <td>164211.0</td>\n      <td>8</td>\n      <td>2004</td>\n      <td>1038464.0</td>\n      <td>354.66</td>\n    </tr>\n    <tr>\n      <th>44601</th>\n      <td>156341</td>\n      <td>518</td>\n      <td>137385.0</td>\n      <td>83.02</td>\n      <td>169691.0</td>\n      <td>10</td>\n      <td>2004</td>\n      <td>1156548.0</td>\n      <td>654.67</td>\n    </tr>\n    <tr>\n      <th>32726</th>\n      <td>235705</td>\n      <td>730</td>\n      <td>126032.0</td>\n      <td>58.12</td>\n      <td>142589.0</td>\n      <td>5</td>\n      <td>2006</td>\n      <td>907656.0</td>\n      <td>461.96</td>\n    </tr>\n    <tr>\n      <th>25707</th>\n      <td>211422</td>\n      <td>621</td>\n      <td>159279.0</td>\n      <td>69.54</td>\n      <td>189747.0</td>\n      <td>10</td>\n      <td>2006</td>\n      <td>1288666.0</td>\n      <td>531.10</td>\n    </tr>\n    <tr>\n      <th>49545</th>\n      <td>104564</td>\n      <td>770</td>\n      <td>205786.0</td>\n      <td>53.68</td>\n      <td>282907.0</td>\n      <td>11</td>\n      <td>2007</td>\n      <td>2003153.0</td>\n      <td>593.25</td>\n    </tr>\n    <tr>\n      <th>48177</th>\n      <td>190632</td>\n      <td>769</td>\n      <td>141063.0</td>\n      <td>74.84</td>\n      <td>189555.0</td>\n      <td>6</td>\n      <td>2008</td>\n      <td>1221517.0</td>\n      <td>614.37</td>\n    </tr>\n    <tr>\n      <th>32961</th>\n      <td>230341</td>\n      <td>714</td>\n      <td>133998.0</td>\n      <td>66.82</td>\n      <td>136116.0</td>\n      <td>4</td>\n      <td>2009</td>\n      <td>946310.0</td>\n      <td>511.54</td>\n    </tr>\n    <tr>\n      <th>44387</th>\n      <td>151903</td>\n      <td>781</td>\n      <td>110816.0</td>\n      <td>42.10</td>\n      <td>115077.0</td>\n      <td>7</td>\n      <td>2009</td>\n      <td>810865.0</td>\n      <td>284.30</td>\n    </tr>\n    <tr>\n      <th>35089</th>\n      <td>131176</td>\n      <td>771</td>\n      <td>138784.0</td>\n      <td>70.27</td>\n      <td>174065.0</td>\n      <td>3</td>\n      <td>2010</td>\n      <td>1149727.0</td>\n      <td>530.09</td>\n    </tr>\n    <tr>\n      <th>46958</th>\n      <td>225709</td>\n      <td>644</td>\n      <td>121919.0</td>\n      <td>41.00</td>\n      <td>123870.0</td>\n      <td>7</td>\n      <td>2011</td>\n      <td>859094.0</td>\n      <td>285.21</td>\n    </tr>\n    <tr>\n      <th>39505</th>\n      <td>153873</td>\n      <td>610</td>\n      <td>148481.0</td>\n      <td>63.81</td>\n      <td>175466.0</td>\n      <td>10</td>\n      <td>2011</td>\n      <td>1155246.0</td>\n      <td>466.67</td>\n    </tr>\n    <tr>\n      <th>49624</th>\n      <td>49036</td>\n      <td>800</td>\n      <td>137618.0</td>\n      <td>60.56</td>\n      <td>143329.0</td>\n      <td>8</td>\n      <td>2012</td>\n      <td>954116.0</td>\n      <td>437.82</td>\n    </tr>\n    <tr>\n      <th>41480</th>\n      <td>122607</td>\n      <td>585</td>\n      <td>157897.0</td>\n      <td>62.21</td>\n      <td>188223.0</td>\n      <td>3</td>\n      <td>2013</td>\n      <td>1125802.0</td>\n      <td>437.64</td>\n    </tr>\n  </tbody>\n</table>\n</div>"
     },
     "execution_count": 6,
     "metadata": {},
     "output_type": "execute_result"
    }
   ],
   "source": [
    "# Create new features using specified primitives\n",
    "features, feature_names = ft.dfs(entityset=es,\n",
    "                                 target_dataframe_name=\"clients\",\n",
    "                                 agg_primitives=[\"sum\"],\n",
    "                                 trans_primitives=['year', 'month'])\n",
    "features"
   ],
   "metadata": {
    "collapsed": false,
    "pycharm": {
     "name": "#%%\n"
    }
   }
  },
  {
   "cell_type": "markdown",
   "source": [],
   "metadata": {
    "collapsed": false
   }
  }
 ],
 "metadata": {
  "kernelspec": {
   "display_name": "Python 3",
   "language": "python",
   "name": "python3"
  },
  "language_info": {
   "codemirror_mode": {
    "name": "ipython",
    "version": 2
   },
   "file_extension": ".py",
   "mimetype": "text/x-python",
   "name": "python",
   "nbconvert_exporter": "python",
   "pygments_lexer": "ipython2",
   "version": "2.7.6"
  }
 },
 "nbformat": 4,
 "nbformat_minor": 0
}