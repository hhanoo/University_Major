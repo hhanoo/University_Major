{
 "cells": [
  {
   "cell_type": "code",
   "execution_count": 1,
   "metadata": {
    "collapsed": true
   },
   "outputs": [],
   "source": [
    "import numpy as np\n",
    "import pandas as pd"
   ]
  },
  {
   "cell_type": "code",
   "execution_count": 2,
   "metadata": {
    "pycharm": {
     "name": "#%%\n"
    }
   },
   "outputs": [],
   "source": [
    "sample_dataset = pd.DataFrame(\n",
    "    {\"Height\": [158, 158, 158, 160, 160, 163, 163, 160, 163, 165, 165, 165, 168, 168, 168, 170, 170, 170],\n",
    "     \"Weight\": [58, 59, 63, 59, 60, 60, 61, 64, 64, 61, 62, 65, 62, 63, 66, 63, 64, 68],\n",
    "     }, columns=[\"Height\", \"Weight\"])\n",
    "\n",
    "size = np.array(['M', 'M', 'M', 'M', 'M', 'M', 'M', 'L', 'L', 'L', 'L', 'L', 'L', 'L', 'L', 'L', 'L', 'L'])\n",
    "\n",
    "predict_data = [161, 61]"
   ]
  },
  {
   "cell_type": "code",
   "execution_count": 3,
   "metadata": {
    "pycharm": {
     "name": "#%%\n"
    }
   },
   "outputs": [],
   "source": [
    "def knn(dataset, predict, target, k, column):\n",
    "    # Normalization dataset\n",
    "    predict = (predict - dataset.mean()) / dataset.std()\n",
    "    dataset = (dataset - dataset.mean()) / dataset.std()\n",
    "    dataset = dataset - predict\n",
    "\n",
    "    # Calculate distance\n",
    "    dataset = np.array(np.sqrt(dataset[column[0]] ** 2 + dataset[column[1]] ** 2))\n",
    "\n",
    "    # Sort distance\n",
    "    sort_dataset = np.argsort(dataset)\n",
    "    sorted_labels = np.array(target[sort_dataset[:]])\n",
    "    k_nearest_labels = sorted_labels[:k]\n",
    "\n",
    "    # Find the most classified item among K data\n",
    "    count_dict = {}\n",
    "    for label in k_nearest_labels:\n",
    "        count_dict[label] = count_dict.get(label, 0) + 1\n",
    "\n",
    "    _target, count_target = np.array(list(count_dict.keys())), np.array(list(count_dict.values()))\n",
    "    return _target[count_target.argmax()]"
   ]
  },
  {
   "cell_type": "code",
   "execution_count": 4,
   "metadata": {
    "pycharm": {
     "name": "#%%\n"
    }
   },
   "outputs": [
    {
     "name": "stdout",
     "output_type": "stream",
     "text": [
      "Height : 161, Weight : 61\n",
      "Predicted size of new data: M\n"
     ]
    }
   ],
   "source": [
    "print('Height : ' + str(predict_data[0]) + ', Weight : ' + str(predict_data[1]))\n",
    "print('Predicted size of new data: ' + knn(sample_dataset, predict_data, size, 3, [\"Height\", \"Weight\"]))"
   ]
  }
 ],
 "metadata": {
  "kernelspec": {
   "display_name": "Python 3 (ipykernel)",
   "language": "python",
   "name": "python3"
  },
  "language_info": {
   "codemirror_mode": {
    "name": "ipython",
    "version": 3
   },
   "file_extension": ".py",
   "mimetype": "text/x-python",
   "name": "python",
   "nbconvert_exporter": "python",
   "pygments_lexer": "ipython3",
   "version": "3.9.7"
  }
 },
 "nbformat": 4,
 "nbformat_minor": 1
}