{
 "cells": [
  {
   "cell_type": "code",
   "execution_count": 1,
   "metadata": {
    "collapsed": true
   },
   "outputs": [],
   "source": [
    "from scipy.stats import chi2_contingency\n",
    "from scipy.stats import chi2"
   ]
  },
  {
   "cell_type": "code",
   "execution_count": 2,
   "metadata": {},
   "outputs": [],
   "source": [
    "def chi_square(table, prob):\n",
    "    stat, p, dof, expected = chi2_contingency(table)\n",
    "    print('dof = %d' % dof)\n",
    "    print('expected\\n', expected)\n",
    "\n",
    "    critical = chi2.ppf(prob, dof)\n",
    "    print('\\nprobability=%.3f, critical=%.3f, stat=%.3f' % (prob, critical, stat))\n",
    "    if abs(stat) >= critical:\n",
    "        print('Dependent (reject H0)')\n",
    "    else:\n",
    "        print('Independent (fail to reject H0)')  #interpret p value\n",
    "\n",
    "    alpha = 1.0 - prob\n",
    "    print('\\nsignificance=%.3f, p=%.3f' % (alpha, p))\n",
    "    if p <= alpha:\n",
    "        print('Dependent (reject H0)')\n",
    "    else:\n",
    "        print('Independent (fail to reject H0)')"
   ]
  },
  {
   "cell_type": "code",
   "execution_count": 3,
   "metadata": {},
   "outputs": [
    {
     "name": "stdout",
     "output_type": "stream",
     "text": [
      "dof = 1\n",
      "expected\n",
      " [[220.60914761 268.39085239]\n",
      " [213.39085239 259.60914761]]\n",
      "\n",
      "probability=0.950, critical=3.841, stat=2.073\n",
      "Independent (fail to reject H0)\n",
      "\n",
      "significance=0.050, p=0.150\n",
      "Independent (fail to reject H0)\n"
     ]
    }
   ],
   "source": [
    "# Exercise 2 (Motivating Example)\n",
    "motivating_table = [[209, 280],\n",
    "                    [225, 248]]\n",
    "chi_square(motivating_table, 0.95)"
   ]
  },
  {
   "cell_type": "code",
   "execution_count": 4,
   "metadata": {},
   "outputs": [
    {
     "name": "stdout",
     "output_type": "stream",
     "text": [
      "dof = 1\n",
      "expected\n",
      " [[222.64241164 266.35758836]\n",
      " [215.35758836 257.64241164]]\n",
      "\n",
      "probability=0.950, critical=3.841, stat=3.845\n",
      "Dependent (reject H0)\n",
      "\n",
      "significance=0.050, p=0.050\n",
      "Dependent (reject H0)\n"
     ]
    }
   ],
   "source": [
    "# Exercise 2 (Walkthrough Example)\n",
    "walkthrough_table = [[207, 282],\n",
    "                    [231, 242]]\n",
    "chi_square(walkthrough_table, 0.95)"
   ]
  },
  {
   "cell_type": "code",
   "execution_count": 5,
   "metadata": {},
   "outputs": [
    {
     "name": "stdout",
     "output_type": "stream",
     "text": [
      "dof = 2\n",
      "expected\n",
      " [[180. 180.  40.]\n",
      " [270. 270.  60.]]\n",
      "\n",
      "probability=0.950, critical=5.991, stat=16.204\n",
      "Dependent (reject H0)\n",
      "\n",
      "significance=0.050, p=0.000\n",
      "Dependent (reject H0)\n"
     ]
    }
   ],
   "source": [
    "# Homework\n",
    "homework_tabel = [[200, 150, 50],\n",
    "                  [250, 300, 50]]\n",
    "chi_square(homework_tabel, 0.95)"
   ]
  }
 ],
 "metadata": {
  "kernelspec": {
   "display_name": "Python 3 (ipykernel)",
   "language": "python",
   "name": "python3"
  },
  "language_info": {
   "codemirror_mode": {
    "name": "ipython",
    "version": 3
   },
   "file_extension": ".py",
   "mimetype": "text/x-python",
   "name": "python",
   "nbconvert_exporter": "python",
   "pygments_lexer": "ipython3",
   "version": "3.9.12"
  }
 },
 "nbformat": 4,
 "nbformat_minor": 1
}
