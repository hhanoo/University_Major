{
 "cells": [
  {
   "cell_type": "code",
   "execution_count": 1,
   "metadata": {
    "collapsed": true
   },
   "outputs": [],
   "source": [
    "import numpy as np\n",
    "from scipy import stats"
   ]
  },
  {
   "cell_type": "code",
   "execution_count": 2,
   "outputs": [],
   "source": [
    "# Sample Size\n",
    "N = 10\n",
    "\n",
    "# Dataset\n",
    "older = [45, 38, 52, 48, 25, 39, 51, 46, 55, 46]\n",
    "younger = [34, 22, 15, 27, 37, 41, 24, 19, 26, 36]\n",
    "\n",
    "# Calculate the Variance and the Standard Deviation\n",
    "var_older = np.var(older, ddof=1)\n",
    "var_younger = np.var(younger, ddof=1)\n",
    "s = np.sqrt((var_older + var_younger)/2)\n",
    "\n",
    "# Calculate the t-statistics\n",
    "t = (np.mean(older) - np.mean(younger))/(s*np.sqrt(2/N))"
   ],
   "metadata": {
    "collapsed": false
   }
  },
  {
   "cell_type": "code",
   "execution_count": 3,
   "outputs": [
    {
     "name": "stdout",
     "output_type": "stream",
     "text": [
      "t = 4.257546665558161\n",
      "p = 0.0004736633119017952\n"
     ]
    }
   ],
   "source": [
    "# Compare with the critical t value\n",
    "# Degrees of freedom\n",
    "df = 2 * N - 2\n",
    "# p value after comparison with the t\n",
    "p = 1 - stats.t.cdf(t, df=df)\n",
    "print(\"t = \" + str(t))\n",
    "print(\"p = \" + str(2*p))"
   ],
   "metadata": {
    "collapsed": false
   }
  },
  {
   "cell_type": "code",
   "execution_count": 4,
   "outputs": [
    {
     "name": "stdout",
     "output_type": "stream",
     "text": [
      "\n",
      "t = 4.257546665558161\n",
      "p = 0.00047366331190192256\n"
     ]
    }
   ],
   "source": [
    "# Cross check with the internal SciPy function\n",
    "# Use scipy.stats.ttest_rel() for paired-samples test\n",
    "t2, p2 = stats.ttest_ind(older, younger)\n",
    "print(\"\\nt = \" + str(t2))\n",
    "print(\"p = \" + str(p2))"
   ],
   "metadata": {
    "collapsed": false
   }
  }
 ],
 "metadata": {
  "kernelspec": {
   "display_name": "Python 3",
   "language": "python",
   "name": "python3"
  },
  "language_info": {
   "codemirror_mode": {
    "name": "ipython",
    "version": 2
   },
   "file_extension": ".py",
   "mimetype": "text/x-python",
   "name": "python",
   "nbconvert_exporter": "python",
   "pygments_lexer": "ipython2",
   "version": "2.7.6"
  }
 },
 "nbformat": 4,
 "nbformat_minor": 0
}
