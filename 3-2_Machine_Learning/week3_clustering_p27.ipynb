{
 "cells": [
  {
   "cell_type": "code",
   "execution_count": 46,
   "metadata": {
    "collapsed": true
   },
   "outputs": [],
   "source": [
    "import pandas as pd\n",
    "import numpy as np\n",
    "from sklearn.cluster import KMeans\n",
    "from sklearn.metrics import silhouette_score"
   ]
  },
  {
   "cell_type": "code",
   "execution_count": 47,
   "outputs": [
    {
     "name": "stdout",
     "output_type": "stream",
     "text": [
      "<class 'pandas.core.frame.DataFrame'>\n",
      "RangeIndex: 150 entries, 0 to 149\n",
      "Data columns (total 5 columns):\n",
      " #   Column        Non-Null Count  Dtype  \n",
      "---  ------        --------------  -----  \n",
      " 0   sepal length  150 non-null    float64\n",
      " 1   sepal width   150 non-null    float64\n",
      " 2   petal length  150 non-null    float64\n",
      " 3   petal width   150 non-null    float64\n",
      " 4   class         150 non-null    object \n",
      "dtypes: float64(4), object(1)\n",
      "memory usage: 6.0+ KB\n"
     ]
    }
   ],
   "source": [
    "df_name = ['sepal length',\n",
    "           'sepal width',\n",
    "           'petal length',\n",
    "           'petal width',\n",
    "           'class']\n",
    "df_origin = pd.read_csv('dataset/iris.data', names=df_name)\n",
    "\n",
    "df_origin.info()"
   ],
   "metadata": {
    "collapsed": false
   }
  },
  {
   "cell_type": "code",
   "execution_count": 48,
   "outputs": [
    {
     "name": "stdout",
     "output_type": "stream",
     "text": [
      "sepal length    0\n",
      "sepal width     0\n",
      "petal length    0\n",
      "petal width     0\n",
      "dtype: int64\n"
     ]
    }
   ],
   "source": [
    "# Preprocessing\n",
    "# Copy dataset\n",
    "df = df_origin.copy()\n",
    "\n",
    "# Delete class (species)\n",
    "df.drop(columns='class', inplace=True)\n",
    "\n",
    "# Check data NULL\n",
    "print(df.isnull().sum())"
   ],
   "metadata": {
    "collapsed": false
   }
  },
  {
   "cell_type": "code",
   "execution_count": 49,
   "outputs": [],
   "source": [
    "def kmeans_silhouette(cluster_list_tmp):\n",
    "    score_tmp = []\n",
    "\n",
    "    for i in cluster_list_tmp:\n",
    "        # Instantiate the KMeans models\n",
    "        km = KMeans(n_clusters=i, random_state=42)\n",
    "\n",
    "        # Fit the KMeans model\n",
    "        km.fit_predict(df)\n",
    "\n",
    "        # Calculate Silhouette Score\n",
    "        score_tmp.append(silhouette_score(df, km.labels_, metric=\"euclidean\"))\n",
    "\n",
    "    return score_tmp"
   ],
   "metadata": {
    "collapsed": false
   }
  },
  {
   "cell_type": "code",
   "execution_count": 50,
   "outputs": [
    {
     "name": "stdout",
     "output_type": "stream",
     "text": [
      "k: 4\tscore: 0.497\n"
     ]
    }
   ],
   "source": [
    "# Result\n",
    "# Cluster list\n",
    "cluster_list = [4]\n",
    "\n",
    "score = kmeans_silhouette(cluster_list)\n",
    "for count, data in enumerate(cluster_list):\n",
    "    print('k: {}\\tscore: {:.3f}'.format(data, score[count]))"
   ],
   "metadata": {
    "collapsed": false
   }
  }
 ],
 "metadata": {
  "kernelspec": {
   "display_name": "Python 3",
   "language": "python",
   "name": "python3"
  },
  "language_info": {
   "codemirror_mode": {
    "name": "ipython",
    "version": 2
   },
   "file_extension": ".py",
   "mimetype": "text/x-python",
   "name": "python",
   "nbconvert_exporter": "python",
   "pygments_lexer": "ipython2",
   "version": "2.7.6"
  }
 },
 "nbformat": 4,
 "nbformat_minor": 0
}
