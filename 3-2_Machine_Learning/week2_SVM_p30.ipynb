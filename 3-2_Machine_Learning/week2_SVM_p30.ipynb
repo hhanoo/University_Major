{
 "cells": [
  {
   "cell_type": "code",
   "execution_count": 1,
   "metadata": {
    "collapsed": true,
    "pycharm": {
     "name": "#%%\n"
    }
   },
   "outputs": [],
   "source": [
    "import numpy as np\n",
    "from sklearn.svm import SVC\n",
    "from sklearn.metrics import classification_report, confusion_matrix\n",
    "from  sklearn.model_selection import  train_test_split\n",
    "import matplotlib.pyplot as plt"
   ]
  },
  {
   "cell_type": "code",
   "execution_count": 2,
   "outputs": [
    {
     "name": "stdout",
     "output_type": "stream",
     "text": [
      "feature1:\n",
      " [[0.90483742 1.        ]\n",
      " [1.         1.        ]\n",
      " [0.90483742 1.        ]\n",
      " [0.67032005 1.        ]\n",
      " [0.40656966 1.        ]]\n",
      "\n",
      "feature1_t:\n",
      " []\n",
      "\n",
      "feature2:\n",
      " [[0.20189652 1.        ]\n",
      " [0.40656966 1.        ]\n",
      " [0.67032005 1.        ]\n",
      " [0.90483742 1.        ]\n",
      " [1.         1.        ]]\n",
      "\n",
      "feature2_t:\n",
      " []\n",
      "\n"
     ]
    }
   ],
   "source": [
    "x = np.array([[-2, 0], [-1,0], [0,0], [1,0], [2,0]])\n",
    "y = np.array([1, 1, 0, 1, 1])\n",
    "\n",
    "center1 = [-1, 0]\n",
    "center2 = [2, 0]\n",
    "gamma = 0.1\n",
    "\n",
    "feature1 = []\n",
    "feature1_t = []\n",
    "feature2 = []\n",
    "feature2_t = []\n",
    "\n",
    "for i in x:\n",
    "    feature1=(np.exp(-(gamma * np.power(x - center1, 2))))\n",
    "    feature2=(np.exp(-(gamma * np.power(x - center2, 2))))\n",
    "\n",
    "print('feature1:\\n', feature1)\n",
    "print()\n",
    "print('feature1_t:\\n', feature1_t)\n",
    "print()\n",
    "print('feature2:\\n', feature2)\n",
    "print()\n",
    "print('feature2_t:\\n', feature2_t)\n",
    "print()"
   ],
   "metadata": {
    "collapsed": false,
    "pycharm": {
     "name": "#%%\n"
    }
   }
  },
  {
   "cell_type": "code",
   "execution_count": 3,
   "outputs": [
    {
     "name": "stdout",
     "output_type": "stream",
     "text": [
      "feature1:\n",
      " [[1.01005017 1.        ]\n",
      " [1.         1.        ]\n",
      " [1.01005017 1.        ]\n",
      " [1.04081077 1.        ]\n",
      " [1.09417428 1.        ]]\n",
      "\n",
      "feature1_t:\n",
      " [[0.01 0.  ]\n",
      " [0.   0.  ]\n",
      " [0.01 0.  ]\n",
      " [0.04 0.  ]\n",
      " [0.09 0.  ]]\n",
      "\n",
      "feature2:\n",
      " [[1.17351087 1.        ]\n",
      " [1.09417428 1.        ]\n",
      " [1.04081077 1.        ]\n",
      " [1.01005017 1.        ]\n",
      " [1.         1.        ]]\n",
      "\n",
      "feature2_t:\n",
      " [[0.16 0.  ]\n",
      " [0.09 0.  ]\n",
      " [0.04 0.  ]\n",
      " [0.01 0.  ]\n",
      " [0.   0.  ]]\n",
      "\n"
     ]
    }
   ],
   "source": [
    "x = np.array([[-2, 0], [-1, 0], [0, 0], [1, 0], [2, 0]])\n",
    "y = np.array([1, 1, 0, 1, 1])\n",
    "\n",
    "center1 = [-1, 0]\n",
    "center2 = [2, 0]\n",
    "gamma = 0.1\n",
    "\n",
    "feature1 = []\n",
    "feature1_t = []\n",
    "feature2 = []\n",
    "feature2_t = []\n",
    "\n",
    "for i in x:\n",
    "    feature1 = (np.exp(np.power(-(gamma * (x - center1)), 2)))\n",
    "    feature1_t = np.power(-(gamma * (x - center1)), 2)\n",
    "    feature2 = (np.exp(np.power(-(gamma * (x - center2)), 2)))\n",
    "    feature2_t = np.power(-(gamma * (x - center2)), 2)\n",
    "\n",
    "print('feature1:\\n', feature1)\n",
    "print()\n",
    "print('feature1_t:\\n', feature1_t)\n",
    "print()\n",
    "print('feature2:\\n', feature2)\n",
    "print()\n",
    "print('feature2_t:\\n', feature2_t)\n",
    "print()"
   ],
   "metadata": {
    "collapsed": false,
    "pycharm": {
     "name": "#%%\n"
    }
   }
  },
  {
   "cell_type": "code",
   "execution_count": 4,
   "outputs": [
    {
     "name": "stdout",
     "output_type": "stream",
     "text": [
      "[[-2, 0], [-1, 0], [0, 0], [1, 0], [2, 0]]\n",
      "[[0.20189652]\n",
      " [0.40656966]\n",
      " [0.67032005]\n",
      " [0.90483742]\n",
      " [1.        ]]\n"
     ]
    }
   ],
   "source": [
    "# https://scikit-learn.org/stable/modules/generated/sklearn.metrics.pairwise.rbf_kernel.html\n",
    "from sklearn.metrics.pairwise import rbf_kernel\n",
    "\n",
    "X = [[-2, 0], [-1, 0], [0, 0], [1, 0], [2, 0]]\n",
    "K = rbf_kernel(X, [[2, 0]], gamma=0.1)\n",
    "print(X)\n",
    "print(K)"
   ],
   "metadata": {
    "collapsed": false,
    "pycharm": {
     "name": "#%%\n"
    }
   }
  },
  {
   "cell_type": "code",
   "execution_count": 4,
   "outputs": [],
   "source": [],
   "metadata": {
    "collapsed": false,
    "pycharm": {
     "name": "#%%\n"
    }
   }
  }
 ],
 "metadata": {
  "kernelspec": {
   "display_name": "Python 3",
   "language": "python",
   "name": "python3"
  },
  "language_info": {
   "codemirror_mode": {
    "name": "ipython",
    "version": 2
   },
   "file_extension": ".py",
   "mimetype": "text/x-python",
   "name": "python",
   "nbconvert_exporter": "python",
   "pygments_lexer": "ipython2",
   "version": "2.7.6"
  }
 },
 "nbformat": 4,
 "nbformat_minor": 0
}