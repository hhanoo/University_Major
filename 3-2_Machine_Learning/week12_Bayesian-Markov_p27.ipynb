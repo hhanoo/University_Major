{
 "cells": [
  {
   "cell_type": "code",
   "execution_count": 7,
   "metadata": {},
   "outputs": [],
   "source": [
    "from sklearn import preprocessing\n",
    "from sklearn.naive_bayes import GaussianNB"
   ]
  },
  {
   "cell_type": "code",
   "execution_count": 8,
   "metadata": {},
   "outputs": [],
   "source": [
    "flu = ['Y', 'N', 'Y', 'N', 'Y', 'N', 'Y', 'N', 'Y', 'N', 'Y', 'Y', 'Y', 'Y', 'N',\n",
    "       'Y', 'N', 'Y',  'Y', 'N', 'Y', 'N', 'Y', 'N', 'Y', 'N', 'Y', 'Y', 'Y', 'N']\n",
    "fever = ['L', 'M', 'H', 'M', 'L', 'M', 'H', 'L', 'L', 'M', 'M', 'H', 'L', 'M',\n",
    "         'H', 'M', 'L', 'H', 'M', 'M', 'L', 'M', 'H', 'M', 'L', 'M', 'H', 'M', 'L', 'M']\n",
    "sinus = ['Y', 'N', 'Y', 'Y', 'Y', 'N', 'N', 'N', 'Y', 'N', 'Y', 'Y', 'Y', 'N',\n",
    "         'Y', 'Y', 'Y', 'N', 'Y', 'Y', 'Y', 'N', 'Y', 'Y', 'Y', 'N', 'Y', 'Y', 'Y', 'N']\n",
    "ache = ['Y', 'N', 'Y', 'N', 'N', 'N', 'Y', 'N', 'N', 'N', 'Y', 'N', 'N', 'N',\n",
    "        'Y', 'N', 'N', 'Y', 'N', 'N', 'N', 'N', 'N', 'N', 'Y', 'N', 'N', 'N', 'Y', 'N']\n",
    "swell = ['Y', 'N', 'Y', 'Y', 'N', 'Y', 'N', 'Y', 'N', 'Y', 'N', 'Y', 'N', 'Y',\n",
    "         'N', 'Y', 'N', 'Y', 'N', 'Y', 'N', 'Y', 'N', 'Y', 'N', 'Y', 'N', 'N', 'Y', 'N']\n",
    "headache = ['N', 'N', 'Y', 'Y', 'N', 'N', 'Y', 'Y', 'Y', 'Y', 'N', 'N', 'Y', 'Y',\n",
    "            'N', 'N', 'N', 'N', 'Y', 'Y', 'N', 'N', 'Y', 'Y', 'N', 'N', 'Y', 'Y', 'N', 'N']\n",
    "cough = ['Y', 'N', 'N', 'N', 'Y', 'N', 'N', 'N', 'Y', 'N', 'Y', 'Y', 'Y', 'N',\n",
    "         'N', 'Y', 'Y', 'N', 'N', 'N', 'N', 'Y', 'Y', 'N', 'N', 'Y', 'Y', 'N', 'N', 'Y']\n",
    "\n",
    "# Create labelEncoder\n",
    "le = preprocessing.LabelEncoder()\n",
    "\n",
    "# Convert string labels into numbers\n",
    "label = le.fit_transform(flu)\n",
    "fever_encoded = le.fit_transform(fever)\n",
    "sinus_encoded = le.fit_transform(sinus)\n",
    "ache_encoded = le.fit_transform(ache)\n",
    "swell_encoded = le.fit_transform(swell)\n",
    "headache_encoded = le.fit_transform(headache)\n",
    "cough_encoded = le.fit_transform(cough)\n",
    "\n",
    "features = list(zip(fever_encoded, sinus_encoded, ache_encoded,\n",
    "                swell_encoded, headache_encoded, cough_encoded))\n",
    "\n",
    "# fever:H, sinus:Y, ache:Y, swell:Y, headache:N, Cough:Y\n",
    "test = [[0, 1, 1, 1, 0, 1]]\n"
   ]
  },
  {
   "cell_type": "code",
   "execution_count": 9,
   "metadata": {},
   "outputs": [
    {
     "name": "stdout",
     "output_type": "stream",
     "text": [
      "Input: [[0, 1, 1, 1, 0, 1]] (fever:H, sinus:Y, ache:Y, swell:Y, headache:N, Cough:Y)\n",
      "Predicted flu\n"
     ]
    }
   ],
   "source": [
    "def doNB(features, test):\n",
    "    # Create a Gaussian Classifier\n",
    "    model = GaussianNB()\n",
    "\n",
    "    # Train the model using the training sets\n",
    "    model.fit(features, label)\n",
    "    # Predict\n",
    "    predicted = model.predict(test)\n",
    "    # print('Predicted Value : ', predicted)\n",
    "\n",
    "    return predicted\n",
    "\n",
    "\n",
    "# Predict using GaussianNB\n",
    "predicted = doNB(features, test)\n",
    "\n",
    "# Print result\n",
    "print(\"Input:\", test, \"(fever:H, sinus:Y, ache:Y, swell:Y, headache:N, Cough:Y)\")\n",
    "if(predicted == 1):\n",
    "    print('Predicted flu')\n",
    "else:\n",
    "    print('Predicted Not flu')\n"
   ]
  }
 ],
 "metadata": {
  "kernelspec": {
   "display_name": "Python 3.10.4 ('Univ_Machine_Learning')",
   "language": "python",
   "name": "python3"
  },
  "language_info": {
   "codemirror_mode": {
    "name": "ipython",
    "version": 3
   },
   "file_extension": ".py",
   "mimetype": "text/x-python",
   "name": "python",
   "nbconvert_exporter": "python",
   "pygments_lexer": "ipython3",
   "version": "3.10.4"
  },
  "orig_nbformat": 4,
  "vscode": {
   "interpreter": {
    "hash": "7c6602f6cc7e8435aa3476c36f824188212d0c07606c2c4831879390ff4ab627"
   }
  }
 },
 "nbformat": 4,
 "nbformat_minor": 2
}
